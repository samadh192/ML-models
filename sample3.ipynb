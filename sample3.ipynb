{
  "nbformat": 4,
  "nbformat_minor": 0,
  "metadata": {
    "colab": {
      "provenance": []
    },
    "kernelspec": {
      "name": "python3",
      "display_name": "Python 3"
    },
    "language_info": {
      "name": "python"
    }
  },
  "cells": [
    {
      "cell_type": "code",
      "execution_count": null,
      "metadata": {
        "id": "jGMXLpH0Jm5I"
      },
      "outputs": [],
      "source": [
        "import pandas as pd\n",
        "import numpy as np\n",
        "from sklearn.preprocessing import StandardScaler\n",
        "from sklearn.model_selection import train_test_split, GridSearchCV, RandomizedSearchCV\n",
        "from sklearn.linear_model import LogisticRegression\n",
        "from sklearn.metrics import roc_curve, auc, accuracy_score, precision_score, recall_score, f1_score\n",
        "from sklearn.svm import SVC\n",
        "from sklearn.neighbors import KNeighborsClassifier\n",
        "from sklearn.ensemble import RandomForestClassifier\n",
        "\n",
        "from sklearn import metrics"
      ]
    },
    {
      "cell_type": "code",
      "source": [
        "df = pd.read_csv('mnist_train.csv')\n",
        "df.info()"
      ],
      "metadata": {
        "colab": {
          "base_uri": "https://localhost:8080/"
        },
        "id": "Y1dG0XHTKcGY",
        "outputId": "017010c2-dd57-45f7-a684-fff26eaf3d97"
      },
      "execution_count": null,
      "outputs": [
        {
          "output_type": "stream",
          "name": "stdout",
          "text": [
            "<class 'pandas.core.frame.DataFrame'>\n",
            "RangeIndex: 60000 entries, 0 to 59999\n",
            "Columns: 785 entries, label to 28x28\n",
            "dtypes: int64(785)\n",
            "memory usage: 359.3 MB\n"
          ]
        }
      ]
    },
    {
      "cell_type": "code",
      "source": [
        "df.dropna(inplace = True)\n",
        "df.info()"
      ],
      "metadata": {
        "colab": {
          "base_uri": "https://localhost:8080/"
        },
        "id": "NbmyDN6IKkH2",
        "outputId": "00a59792-814e-4488-8def-6f3f3b558456"
      },
      "execution_count": null,
      "outputs": [
        {
          "output_type": "stream",
          "name": "stdout",
          "text": [
            "<class 'pandas.core.frame.DataFrame'>\n",
            "RangeIndex: 60000 entries, 0 to 59999\n",
            "Columns: 785 entries, label to 28x28\n",
            "dtypes: int64(785)\n",
            "memory usage: 359.3 MB\n"
          ]
        }
      ]
    },
    {
      "cell_type": "code",
      "source": [
        "df = df.sample(frac=1, random_state=50)\n",
        "y = df['label']\n",
        "X = df.drop('label', axis = 1)\n",
        "X_train, X_test, y_train, y_test = train_test_split(X, y, test_size =0.2, random_state = 50)\n",
        "\n",
        "print(X_train.shape)\n",
        "print(y_train.shape)"
      ],
      "metadata": {
        "colab": {
          "base_uri": "https://localhost:8080/"
        },
        "id": "LbaqrpwBKnYP",
        "outputId": "a2c1202f-926f-42e0-f71b-46f200764e68"
      },
      "execution_count": null,
      "outputs": [
        {
          "output_type": "stream",
          "name": "stdout",
          "text": [
            "(48000, 784)\n",
            "(48000,)\n"
          ]
        }
      ]
    },
    {
      "cell_type": "code",
      "source": [
        "# classifiers = {\n",
        "#     # 'SVM': SVC(),\n",
        "#     'KNN': KNeighborsClassifier(),\n",
        "#     'Random Forest': RandomForestClassifier(random_state=50),\n",
        "#     'Logistic Regression': LogisticRegression()\n",
        "# }\n",
        "\n",
        "# # Define hyperparameters grid for each classifier\n",
        "# param_grids = {\n",
        "#     # 'SVM': {\n",
        "#     #     'C': [0.1, 1, 10, 100, 1000],\n",
        "#     #     'gamma': [1, 0.1, 0.01, 0.001, 0.0001, 'scale', 'auto'],\n",
        "#     #     'kernel': ['rbf','linear']\n",
        "#     # },\n",
        "#     'KNN': {\n",
        "#         'n_neighbors': [3,5,7,9],\n",
        "#         'weights': ['uniform', 'distance']\n",
        "#     },\n",
        "#     'Random Forest': {\n",
        "#       'n_estimators': [50, 100, 150],\n",
        "#       'max_depth': [None, 10, 20],\n",
        "#       'min_samples_split': [2, 5, 10],\n",
        "#       'max_features': ['sqrt', 'log2']\n",
        "#     },\n",
        "#     'HistGradientBoosting': {\n",
        "#         'learning_rate': [0.1, 0.01, 0.001],\n",
        "#         'max_iter': [50, 100, 200, 350, 500]\n",
        "#     },\n",
        "#     'Logistic Regression':{'solver': ['saga', 'liblinear'],\n",
        "#                   'penalty': ['l1','l2'],\n",
        "#                  'C': [0.001,0.01,0.1,1,10,100,1000],\n",
        "#                   'max_iter' : [10,100,500]}\n",
        "# }"
      ],
      "metadata": {
        "id": "TLEKx0KFLAVX"
      },
      "execution_count": null,
      "outputs": []
    },
    {
      "cell_type": "code",
      "source": [
        "# results = {}\n",
        "# for name, classifier in classifiers.items():\n",
        "#     print(\"Training: \", name)\n",
        "#     gridSearch = RandomizedSearchCV(estimator=classifier, param_distributions=param_grids[name], cv=5, n_jobs=-1)\n",
        "#     gridSearch.fit(X_train, y_train)\n",
        "#     results[name] = gridSearch.best_estimator_\n",
        "\n",
        "# print(results)"
      ],
      "metadata": {
        "id": "9gzjY2xzLnwX"
      },
      "execution_count": null,
      "outputs": []
    },
    {
      "cell_type": "code",
      "source": [
        "# for name, clf in results.items():\n",
        "#     print(\"\\nResults for\", name)\n",
        "#     y_pred = clf.predict(X_test)\n",
        "#     accuracy = metrics.accuracy_score(y_test, y_pred)\n",
        "#     print(\"Accuracy:\", accuracy)"
      ],
      "metadata": {
        "id": "S4Ejip2VLqD3"
      },
      "execution_count": null,
      "outputs": []
    },
    {
      "cell_type": "code",
      "source": [
        "from tensorflow import keras\n",
        "from keras.models import Sequential\n",
        "from keras.layers import Dense, Activation"
      ],
      "metadata": {
        "id": "1KBoBrhXVQ_O"
      },
      "execution_count": null,
      "outputs": []
    },
    {
      "cell_type": "code",
      "source": [
        "model = Sequential()\n",
        "\n",
        "# add input layer size to the first hidden layer\n",
        "model.add(Dense(256, input_shape=(784,), activation=\"relu\"))\n",
        "model.add(Dense(256, activation=\"relu\"))\n",
        "model.add(Dense(256, activation=\"relu\"))\n",
        "# output layer\n",
        "model.add(Dense(10, activation=\"softmax\"))"
      ],
      "metadata": {
        "id": "s6_1y1R3XICv"
      },
      "execution_count": null,
      "outputs": []
    },
    {
      "cell_type": "code",
      "source": [
        "model.summary()"
      ],
      "metadata": {
        "colab": {
          "base_uri": "https://localhost:8080/"
        },
        "id": "iTc_PjY3Y6BF",
        "outputId": "6375563b-bd8a-4f26-8520-8e78d17b5d13"
      },
      "execution_count": null,
      "outputs": [
        {
          "output_type": "stream",
          "name": "stdout",
          "text": [
            "Model: \"sequential_9\"\n",
            "_________________________________________________________________\n",
            " Layer (type)                Output Shape              Param #   \n",
            "=================================================================\n",
            " dense_27 (Dense)            (None, 256)               200960    \n",
            "                                                                 \n",
            " dense_28 (Dense)            (None, 256)               65792     \n",
            "                                                                 \n",
            " dense_29 (Dense)            (None, 256)               65792     \n",
            "                                                                 \n",
            " dense_30 (Dense)            (None, 10)                2570      \n",
            "                                                                 \n",
            "=================================================================\n",
            "Total params: 335114 (1.28 MB)\n",
            "Trainable params: 335114 (1.28 MB)\n",
            "Non-trainable params: 0 (0.00 Byte)\n",
            "_________________________________________________________________\n"
          ]
        }
      ]
    },
    {
      "cell_type": "code",
      "source": [
        "learning_rate = 0.01\n",
        "\n",
        "# stochastic gradient descent optimizer\n",
        "sgd_optimizer = keras.optimizers.Adam()\n",
        "# categoricall crossentropy loss function\n",
        "cc_loss = keras.losses.CategoricalCrossentropy()\n",
        "\n",
        "model.compile(optimizer=sgd_optimizer, loss=cc_loss, metrics=[\"accuracy\"])"
      ],
      "metadata": {
        "id": "ddw64gG7Y-uK"
      },
      "execution_count": null,
      "outputs": []
    },
    {
      "cell_type": "code",
      "source": [
        "from sklearn.preprocessing import OneHotEncoder"
      ],
      "metadata": {
        "id": "qStAuJE_ZFvG"
      },
      "execution_count": null,
      "outputs": []
    },
    {
      "cell_type": "code",
      "source": [
        "y_train = np.array(y_train)\n",
        "y_test = np.array(y_test)\n",
        "X_train = np.array(X_train)\n",
        "X_test = np.array(X_test)\n",
        "\n",
        "\n",
        "y_train = y_train.reshape(-1, 1)\n",
        "y_test = y_test.reshape(-1, 1)"
      ],
      "metadata": {
        "id": "tnAyHRVhZIoa"
      },
      "execution_count": null,
      "outputs": []
    },
    {
      "cell_type": "code",
      "source": [
        "encoder = OneHotEncoder(sparse_output=False).fit(y_train)\n",
        "y_train = encoder.transform(y_train)\n",
        "y_test = encoder.transform(y_test)"
      ],
      "metadata": {
        "id": "Ku46e8jVZL1T"
      },
      "execution_count": null,
      "outputs": []
    },
    {
      "cell_type": "code",
      "source": [
        "model.fit(X_train, y_train, epochs=5, batch_size=64)\n",
        "loss, accuracy = model.evaluate(X_test, y_test, batch_size=1)\n",
        "print(f\"Test Loss: {loss}\")\n",
        "print(f\"Test Accuracy: {accuracy}\")"
      ],
      "metadata": {
        "colab": {
          "base_uri": "https://localhost:8080/"
        },
        "id": "9_GdoD1-ZQxe",
        "outputId": "9f218e7a-a9ea-4740-de31-9d677798c7fb"
      },
      "execution_count": null,
      "outputs": [
        {
          "output_type": "stream",
          "name": "stdout",
          "text": [
            "Epoch 1/5\n",
            "750/750 [==============================] - 8s 9ms/step - loss: 1.3100 - accuracy: 0.8791\n",
            "Epoch 2/5\n",
            "750/750 [==============================] - 7s 9ms/step - loss: 0.2234 - accuracy: 0.9449\n",
            "Epoch 3/5\n",
            "750/750 [==============================] - 6s 8ms/step - loss: 0.1617 - accuracy: 0.9565\n",
            "Epoch 4/5\n",
            "750/750 [==============================] - 7s 9ms/step - loss: 0.1253 - accuracy: 0.9650\n",
            "Epoch 5/5\n",
            "750/750 [==============================] - 6s 8ms/step - loss: 0.1069 - accuracy: 0.9691\n",
            "12000/12000 [==============================] - 23s 2ms/step - loss: 0.2035 - accuracy: 0.9567\n",
            "Test Loss: 0.20353786647319794\n",
            "Test Accuracy: 0.9566666483879089\n"
          ]
        }
      ]
    },
    {
      "cell_type": "code",
      "source": [
        "y_pred = model.predict(X_test)"
      ],
      "metadata": {
        "colab": {
          "base_uri": "https://localhost:8080/"
        },
        "id": "w5MpEqy4ZWPK",
        "outputId": "5e946930-6b78-4097-cc67-a5007a4a43c8"
      },
      "execution_count": null,
      "outputs": [
        {
          "output_type": "stream",
          "name": "stdout",
          "text": [
            "375/375 [==============================] - 1s 3ms/step\n"
          ]
        }
      ]
    },
    {
      "cell_type": "code",
      "source": [
        "from sklearn.metrics import confusion_matrix, classification_report\n",
        "predictions = np.argmax(y_pred, axis = 1)\n",
        "correct = np.argmax(y_test, axis = 1)\n",
        "# Print the confusion matrix\n",
        "print(\"Confusion Matrix:\")\n",
        "print(confusion_matrix(correct, predictions))\n",
        "\n",
        "# Compute additional metrics\n",
        "print(\"\\nClassification Report:\")\n",
        "print(classification_report(correct, predictions))"
      ],
      "metadata": {
        "colab": {
          "base_uri": "https://localhost:8080/"
        },
        "id": "BpIQeuDMZemF",
        "outputId": "2384194f-062a-41b2-9f30-1835653e3451"
      },
      "execution_count": null,
      "outputs": [
        {
          "output_type": "stream",
          "name": "stdout",
          "text": [
            "Confusion Matrix:\n",
            "[[1208    0    3    0    1    2    2    2    1    1]\n",
            " [   0 1329    9    6    2    1    0    2    3    1]\n",
            " [  13    0 1175    6   12    1    1    6    2    3]\n",
            " [   4    3   16 1167    0   11    0   19   10    6]\n",
            " [   1    5    5    0 1093    2    3   13    2   20]\n",
            " [   4    0    4   23    2 1066   14    4   13   13]\n",
            " [  15    2    9    0    3    5 1116    0    6    2]\n",
            " [   1    5   10    3    1    0    0 1213    0    4]\n",
            " [   5    5   19   14   10   10    1    7 1071   18]\n",
            " [   6    3    1   13   30    4    0   28    3 1042]]\n",
            "\n",
            "Classification Report:\n",
            "              precision    recall  f1-score   support\n",
            "\n",
            "           0       0.96      0.99      0.98      1220\n",
            "           1       0.98      0.98      0.98      1353\n",
            "           2       0.94      0.96      0.95      1219\n",
            "           3       0.95      0.94      0.95      1236\n",
            "           4       0.95      0.96      0.95      1144\n",
            "           5       0.97      0.93      0.95      1143\n",
            "           6       0.98      0.96      0.97      1158\n",
            "           7       0.94      0.98      0.96      1237\n",
            "           8       0.96      0.92      0.94      1160\n",
            "           9       0.94      0.92      0.93      1130\n",
            "\n",
            "    accuracy                           0.96     12000\n",
            "   macro avg       0.96      0.96      0.96     12000\n",
            "weighted avg       0.96      0.96      0.96     12000\n",
            "\n"
          ]
        }
      ]
    }
  ]
}